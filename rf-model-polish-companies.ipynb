{
 "cells": [
  {
   "cell_type": "code",
   "execution_count": 10,
   "id": "f99589b4-3464-4a08-a854-0251f89694cb",
   "metadata": {},
   "outputs": [],
   "source": [
    "from glob import glob\n",
    "import sys\n",
    "import pickle\n",
    "\n",
    "import pandas as pd\n",
    "from scipy.io import arff\n",
    "import matplotlib.pyplot as plt\n",
    "import seaborn as sns\n",
    "from imblearn.over_sampling import RandomOverSampler\n",
    "from imblearn.under_sampling import RandomUnderSampler\n",
    "from sklearn.impute import SimpleImputer\n",
    "from sklearn.metrics import ConfusionMatrixDisplay\n",
    "from sklearn.pipeline import make_pipeline\n",
    "from sklearn.ensemble import RandomForestClassifier\n",
    "from sklearn.model_selection import GridSearchCV, cross_val_score, train_test_split\n"
   ]
  },
  {
   "cell_type": "markdown",
   "id": "1ae64abd-9b1e-4ead-bdd8-52e073118ec0",
   "metadata": {},
   "source": [
    "# Prepare Data"
   ]
  },
  {
   "cell_type": "markdown",
   "id": "45c4f342-4668-4b1c-bd99-38d71e7db39a",
   "metadata": {},
   "source": [
    "## Import"
   ]
  },
  {
   "cell_type": "markdown",
   "id": "2ead7b5f-6565-4a95-85ed-7d2c027b6df9",
   "metadata": {},
   "source": [
    "we need to begin by bringing our data into the project"
   ]
  },
  {
   "cell_type": "code",
   "execution_count": 2,
   "id": "3d29792b-a943-455c-bd1b-eb3d9675204d",
   "metadata": {},
   "outputs": [],
   "source": [
    "\n",
    "# Loads the 5 raw .arff files into pandas dataframes\n",
    "def load_dataframes(p):\n",
    "    paths = glob(p)\n",
    "    data =  [arff.loadarff(p) for p in paths]\n",
    "    return    [pd.DataFrame(d[0]) for d in data]\n",
    "\n",
    "\n",
    "############################################################\n",
    "# Set the column headers from feat_1 ... feat_64 and the class label as bankrupty, for all the 5 dataframes.\n",
    "def set_new_headers(dataframes):\n",
    "    cols = ['feat_' + str(i+1) for i in range(len(dataframes[0].columns)-1)]\n",
    "    cols.append('bankrupt')\n",
    "    for df in dataframes:\n",
    "        df.columns = cols\n",
    "\n",
    "############################################################\n",
    "# dataframes is the list of pandas dataframes for the 5 year datafiles.  \n",
    "#dataframes = load_dataframes()\n",
    "\n",
    "# Set the new headers for the dataframes. The new headers will have the renamed set of feature (X1 to X64)\n",
    "#set_new_headers(dataframes)    \n",
    "############################################################\n",
    "\n",
    "# Convert the dtypes of all the columns (other than the class label columns) to float.\n",
    "def convert_columns_type_float(dfs):\n",
    "    for i in range(5):\n",
    "        index = 1\n",
    "        while(index<=63):\n",
    "            colname = dfs[i].columns[index]\n",
    "            col = getattr(dfs[i], colname)\n",
    "            dfs[i][colname] = col.astype(float)\n",
    "            index+=1\n",
    "            \n",
    "#convert_columns_type_float(dataframes)\n",
    "############################################################\n",
    "\n",
    "# The class labels for all the dataframes are originally in object type.\n",
    "# Convert them to int types\n",
    "def convert_class_label_type_int(dfs):\n",
    "    for i in range(len(dfs)):\n",
    "        col = getattr(dfs[i], 'bankrupt')\n",
    "        dfs[i]['bankrupt'] = col.astype(int)\n",
    "        \n",
    "#convert_class_label_type_int(dataframes)\n",
    "############################################################\n",
    "def wrangle(path):\n",
    "    dataframes = load_dataframes(p=path)\n",
    "    set_new_headers(dataframes)    \n",
    "    convert_columns_type_float(dataframes)\n",
    "    convert_columns_type_float(dataframes)\n",
    "    convert_class_label_type_int(dataframes)\n",
    "    df = pd.concat(dataframes) #.dropna(inplace=True)\n",
    "    df[\"company_id\"] = range(len(df))\n",
    "    df.set_index(\"company_id\" , inplace=True)\n",
    "    return df"
   ]
  },
  {
   "cell_type": "code",
   "execution_count": 3,
   "id": "6f68b82e-4086-4672-9ea4-60190144b602",
   "metadata": {},
   "outputs": [
    {
     "name": "stdout",
     "output_type": "stream",
     "text": [
      "(43405, 65)\n",
      "<class 'pandas.core.frame.DataFrame'>\n",
      "Int64Index: 43405 entries, 0 to 43404\n",
      "Data columns (total 65 columns):\n",
      " #   Column    Non-Null Count  Dtype  \n",
      "---  ------    --------------  -----  \n",
      " 0   feat_1    43397 non-null  float64\n",
      " 1   feat_2    43397 non-null  float64\n",
      " 2   feat_3    43397 non-null  float64\n",
      " 3   feat_4    43271 non-null  float64\n",
      " 4   feat_5    43316 non-null  float64\n",
      " 5   feat_6    43397 non-null  float64\n",
      " 6   feat_7    43397 non-null  float64\n",
      " 7   feat_8    43311 non-null  float64\n",
      " 8   feat_9    43396 non-null  float64\n",
      " 9   feat_10   43397 non-null  float64\n",
      " 10  feat_11   43361 non-null  float64\n",
      " 11  feat_12   43271 non-null  float64\n",
      " 12  feat_13   43278 non-null  float64\n",
      " 13  feat_14   43397 non-null  float64\n",
      " 14  feat_15   43369 non-null  float64\n",
      " 15  feat_16   43310 non-null  float64\n",
      " 16  feat_17   43311 non-null  float64\n",
      " 17  feat_18   43397 non-null  float64\n",
      " 18  feat_19   43277 non-null  float64\n",
      " 19  feat_20   43278 non-null  float64\n",
      " 20  feat_21   37551 non-null  float64\n",
      " 21  feat_22   43397 non-null  float64\n",
      " 22  feat_23   43278 non-null  float64\n",
      " 23  feat_24   42483 non-null  float64\n",
      " 24  feat_25   43397 non-null  float64\n",
      " 25  feat_26   43310 non-null  float64\n",
      " 26  feat_27   40641 non-null  float64\n",
      " 27  feat_28   42593 non-null  float64\n",
      " 28  feat_29   43397 non-null  float64\n",
      " 29  feat_30   43278 non-null  float64\n",
      " 30  feat_31   43278 non-null  float64\n",
      " 31  feat_32   43037 non-null  float64\n",
      " 32  feat_33   43271 non-null  float64\n",
      " 33  feat_34   43311 non-null  float64\n",
      " 34  feat_35   43397 non-null  float64\n",
      " 35  feat_36   43397 non-null  float64\n",
      " 36  feat_37   24421 non-null  float64\n",
      " 37  feat_38   43397 non-null  float64\n",
      " 38  feat_39   43278 non-null  float64\n",
      " 39  feat_40   43271 non-null  float64\n",
      " 40  feat_41   42651 non-null  float64\n",
      " 41  feat_42   43278 non-null  float64\n",
      " 42  feat_43   43278 non-null  float64\n",
      " 43  feat_44   43278 non-null  float64\n",
      " 44  feat_45   41258 non-null  float64\n",
      " 45  feat_46   43270 non-null  float64\n",
      " 46  feat_47   43108 non-null  float64\n",
      " 47  feat_48   43396 non-null  float64\n",
      " 48  feat_49   43278 non-null  float64\n",
      " 49  feat_50   43311 non-null  float64\n",
      " 50  feat_51   43397 non-null  float64\n",
      " 51  feat_52   43104 non-null  float64\n",
      " 52  feat_53   42593 non-null  float64\n",
      " 53  feat_54   42593 non-null  float64\n",
      " 54  feat_55   43404 non-null  float64\n",
      " 55  feat_56   43278 non-null  float64\n",
      " 56  feat_57   43398 non-null  float64\n",
      " 57  feat_58   43321 non-null  float64\n",
      " 58  feat_59   43398 non-null  float64\n",
      " 59  feat_60   41253 non-null  float64\n",
      " 60  feat_61   43303 non-null  float64\n",
      " 61  feat_62   43278 non-null  float64\n",
      " 62  feat_63   43271 non-null  float64\n",
      " 63  feat_64   42593 non-null  float64\n",
      " 64  bankrupt  43405 non-null  int64  \n",
      "dtypes: float64(64), int64(1)\n",
      "memory usage: 21.9 MB\n",
      "None\n"
     ]
    },
    {
     "data": {
      "text/html": [
       "<div>\n",
       "<style scoped>\n",
       "    .dataframe tbody tr th:only-of-type {\n",
       "        vertical-align: middle;\n",
       "    }\n",
       "\n",
       "    .dataframe tbody tr th {\n",
       "        vertical-align: top;\n",
       "    }\n",
       "\n",
       "    .dataframe thead th {\n",
       "        text-align: right;\n",
       "    }\n",
       "</style>\n",
       "<table border=\"1\" class=\"dataframe\">\n",
       "  <thead>\n",
       "    <tr style=\"text-align: right;\">\n",
       "      <th></th>\n",
       "      <th>feat_1</th>\n",
       "      <th>feat_2</th>\n",
       "      <th>feat_3</th>\n",
       "      <th>feat_4</th>\n",
       "      <th>feat_5</th>\n",
       "      <th>feat_6</th>\n",
       "      <th>feat_7</th>\n",
       "      <th>feat_8</th>\n",
       "      <th>feat_9</th>\n",
       "      <th>feat_10</th>\n",
       "      <th>...</th>\n",
       "      <th>feat_56</th>\n",
       "      <th>feat_57</th>\n",
       "      <th>feat_58</th>\n",
       "      <th>feat_59</th>\n",
       "      <th>feat_60</th>\n",
       "      <th>feat_61</th>\n",
       "      <th>feat_62</th>\n",
       "      <th>feat_63</th>\n",
       "      <th>feat_64</th>\n",
       "      <th>bankrupt</th>\n",
       "    </tr>\n",
       "    <tr>\n",
       "      <th>company_id</th>\n",
       "      <th></th>\n",
       "      <th></th>\n",
       "      <th></th>\n",
       "      <th></th>\n",
       "      <th></th>\n",
       "      <th></th>\n",
       "      <th></th>\n",
       "      <th></th>\n",
       "      <th></th>\n",
       "      <th></th>\n",
       "      <th></th>\n",
       "      <th></th>\n",
       "      <th></th>\n",
       "      <th></th>\n",
       "      <th></th>\n",
       "      <th></th>\n",
       "      <th></th>\n",
       "      <th></th>\n",
       "      <th></th>\n",
       "      <th></th>\n",
       "      <th></th>\n",
       "    </tr>\n",
       "  </thead>\n",
       "  <tbody>\n",
       "    <tr>\n",
       "      <th>0</th>\n",
       "      <td>0.088238</td>\n",
       "      <td>0.55472</td>\n",
       "      <td>0.01134</td>\n",
       "      <td>1.0205</td>\n",
       "      <td>-66.5200</td>\n",
       "      <td>0.342040</td>\n",
       "      <td>0.109490</td>\n",
       "      <td>0.57752</td>\n",
       "      <td>1.0881</td>\n",
       "      <td>0.32036</td>\n",
       "      <td>...</td>\n",
       "      <td>0.080955</td>\n",
       "      <td>0.275430</td>\n",
       "      <td>0.91905</td>\n",
       "      <td>0.002024</td>\n",
       "      <td>7.2711</td>\n",
       "      <td>4.7343</td>\n",
       "      <td>142.760</td>\n",
       "      <td>2.5568</td>\n",
       "      <td>3.2597</td>\n",
       "      <td>0</td>\n",
       "    </tr>\n",
       "    <tr>\n",
       "      <th>1</th>\n",
       "      <td>-0.006202</td>\n",
       "      <td>0.48465</td>\n",
       "      <td>0.23298</td>\n",
       "      <td>1.5998</td>\n",
       "      <td>6.1825</td>\n",
       "      <td>0.000000</td>\n",
       "      <td>-0.006202</td>\n",
       "      <td>1.06340</td>\n",
       "      <td>1.2757</td>\n",
       "      <td>0.51535</td>\n",
       "      <td>...</td>\n",
       "      <td>-0.028591</td>\n",
       "      <td>-0.012035</td>\n",
       "      <td>1.00470</td>\n",
       "      <td>0.152220</td>\n",
       "      <td>6.0911</td>\n",
       "      <td>3.2749</td>\n",
       "      <td>111.140</td>\n",
       "      <td>3.2841</td>\n",
       "      <td>3.3700</td>\n",
       "      <td>0</td>\n",
       "    </tr>\n",
       "    <tr>\n",
       "      <th>2</th>\n",
       "      <td>0.130240</td>\n",
       "      <td>0.22142</td>\n",
       "      <td>0.57751</td>\n",
       "      <td>3.6082</td>\n",
       "      <td>120.0400</td>\n",
       "      <td>0.187640</td>\n",
       "      <td>0.162120</td>\n",
       "      <td>3.05900</td>\n",
       "      <td>1.1415</td>\n",
       "      <td>0.67731</td>\n",
       "      <td>...</td>\n",
       "      <td>0.123960</td>\n",
       "      <td>0.192290</td>\n",
       "      <td>0.87604</td>\n",
       "      <td>0.000000</td>\n",
       "      <td>8.7934</td>\n",
       "      <td>2.9870</td>\n",
       "      <td>71.531</td>\n",
       "      <td>5.1027</td>\n",
       "      <td>5.6188</td>\n",
       "      <td>0</td>\n",
       "    </tr>\n",
       "    <tr>\n",
       "      <th>3</th>\n",
       "      <td>-0.089951</td>\n",
       "      <td>0.88700</td>\n",
       "      <td>0.26927</td>\n",
       "      <td>1.5222</td>\n",
       "      <td>-55.9920</td>\n",
       "      <td>-0.073957</td>\n",
       "      <td>-0.089951</td>\n",
       "      <td>0.12740</td>\n",
       "      <td>1.2754</td>\n",
       "      <td>0.11300</td>\n",
       "      <td>...</td>\n",
       "      <td>0.418840</td>\n",
       "      <td>-0.796020</td>\n",
       "      <td>0.59074</td>\n",
       "      <td>2.878700</td>\n",
       "      <td>7.6524</td>\n",
       "      <td>3.3302</td>\n",
       "      <td>147.560</td>\n",
       "      <td>2.4735</td>\n",
       "      <td>5.9299</td>\n",
       "      <td>0</td>\n",
       "    </tr>\n",
       "    <tr>\n",
       "      <th>4</th>\n",
       "      <td>0.048179</td>\n",
       "      <td>0.55041</td>\n",
       "      <td>0.10765</td>\n",
       "      <td>1.2437</td>\n",
       "      <td>-22.9590</td>\n",
       "      <td>0.000000</td>\n",
       "      <td>0.059280</td>\n",
       "      <td>0.81682</td>\n",
       "      <td>1.5150</td>\n",
       "      <td>0.44959</td>\n",
       "      <td>...</td>\n",
       "      <td>0.240400</td>\n",
       "      <td>0.107160</td>\n",
       "      <td>0.77048</td>\n",
       "      <td>0.139380</td>\n",
       "      <td>10.1180</td>\n",
       "      <td>4.0950</td>\n",
       "      <td>106.430</td>\n",
       "      <td>3.4294</td>\n",
       "      <td>3.3622</td>\n",
       "      <td>0</td>\n",
       "    </tr>\n",
       "  </tbody>\n",
       "</table>\n",
       "<p>5 rows × 65 columns</p>\n",
       "</div>"
      ],
      "text/plain": [
       "              feat_1   feat_2   feat_3  feat_4    feat_5    feat_6    feat_7  \\\n",
       "company_id                                                                     \n",
       "0           0.088238  0.55472  0.01134  1.0205  -66.5200  0.342040  0.109490   \n",
       "1          -0.006202  0.48465  0.23298  1.5998    6.1825  0.000000 -0.006202   \n",
       "2           0.130240  0.22142  0.57751  3.6082  120.0400  0.187640  0.162120   \n",
       "3          -0.089951  0.88700  0.26927  1.5222  -55.9920 -0.073957 -0.089951   \n",
       "4           0.048179  0.55041  0.10765  1.2437  -22.9590  0.000000  0.059280   \n",
       "\n",
       "             feat_8  feat_9  feat_10  ...   feat_56   feat_57  feat_58  \\\n",
       "company_id                            ...                                \n",
       "0           0.57752  1.0881  0.32036  ...  0.080955  0.275430  0.91905   \n",
       "1           1.06340  1.2757  0.51535  ... -0.028591 -0.012035  1.00470   \n",
       "2           3.05900  1.1415  0.67731  ...  0.123960  0.192290  0.87604   \n",
       "3           0.12740  1.2754  0.11300  ...  0.418840 -0.796020  0.59074   \n",
       "4           0.81682  1.5150  0.44959  ...  0.240400  0.107160  0.77048   \n",
       "\n",
       "             feat_59  feat_60  feat_61  feat_62  feat_63  feat_64  bankrupt  \n",
       "company_id                                                                   \n",
       "0           0.002024   7.2711   4.7343  142.760   2.5568   3.2597         0  \n",
       "1           0.152220   6.0911   3.2749  111.140   3.2841   3.3700         0  \n",
       "2           0.000000   8.7934   2.9870   71.531   5.1027   5.6188         0  \n",
       "3           2.878700   7.6524   3.3302  147.560   2.4735   5.9299         0  \n",
       "4           0.139380  10.1180   4.0950  106.430   3.4294   3.3622         0  \n",
       "\n",
       "[5 rows x 65 columns]"
      ]
     },
     "execution_count": 3,
     "metadata": {},
     "output_type": "execute_result"
    }
   ],
   "source": [
    "df = wrangle(path=\"/home/jumaa/PROJECT/Python/050bankrupty_in_poland/polish-companies-bankruptcy-data/*year.arff\")\n",
    "print(df.shape)\n",
    "print(df.info())\n",
    "df.head()"
   ]
  },
  {
   "cell_type": "markdown",
   "id": "845675cd-a897-4841-a8dc-5edcd0300c7c",
   "metadata": {},
   "source": [
    "## Explore"
   ]
  },
  {
   "cell_type": "markdown",
   "id": "d9871b6e-01d2-4af2-b305-40b8d0c9141c",
   "metadata": {},
   "source": [
    "Let's take a moment to refresh our memory on what's in this dataset."
   ]
  },
  {
   "cell_type": "code",
   "execution_count": 4,
   "id": "49df1cb8-77de-4742-870d-2a7a2342dae4",
   "metadata": {},
   "outputs": [
    {
     "data": {
      "image/png": "[encoded data removed]",
      "text/plain": [
       "<Figure size 640x480 with 1 Axes>"
      ]
     },
     "metadata": {},
     "output_type": "display_data"
    }
   ],
   "source": [
    "df[\"bankrupt\"].value_counts(normalize=True).plot(kind=\"bar\");"
   ]
  },
  {
   "cell_type": "markdown",
   "id": "827943a7-6fd9-4622-b5de-2a928f676dab",
   "metadata": {},
   "source": [
    "It shows us that we have an imbalanced dataset, where our majority class is far bigger than our minority class."
   ]
  },
  {
   "cell_type": "markdown",
   "id": "f043555c-b8a2-4459-9181-05e7f54d41e1",
   "metadata": {},
   "source": [
    "## Split"
   ]
  },
  {
   "cell_type": "code",
   "execution_count": 5,
   "id": "a8000169-dded-4bb8-abd3-a5955ed151fe",
   "metadata": {},
   "outputs": [
    {
     "name": "stdout",
     "output_type": "stream",
     "text": [
      "X shape: (43405, 64)\n",
      "y shape: (43405,)\n"
     ]
    }
   ],
   "source": [
    "target = \"bankrupt\"\n",
    "X = df.drop(columns=target)\n",
    "y = df[target]\n",
    "\n",
    "print(\"X shape:\", X.shape)\n",
    "print(\"y shape:\", y.shape)"
   ]
  },
  {
   "cell_type": "markdown",
   "id": "fc249b0e-e403-4145-a92b-c1de0e277474",
   "metadata": {},
   "source": [
    "Since we're not working with time series data, we're going to randomly divide our dataset into training and test sets "
   ]
  },
  {
   "cell_type": "code",
   "execution_count": 6,
   "id": "ecf5fbaa-c10b-4495-98b9-f0bb17a80ad9",
   "metadata": {},
   "outputs": [
    {
     "name": "stdout",
     "output_type": "stream",
     "text": [
      "X_train shape: (34724, 64)\n",
      "y_train shape: (34724,)\n",
      "X_test shape: (8681, 64)\n",
      "y_test shape: (8681,)\n"
     ]
    }
   ],
   "source": [
    "X_train, X_test, y_train, y_test = train_test_split(X , y, test_size=0.2 , random_state=42)\n",
    "\n",
    "print(\"X_train shape:\", X_train.shape)\n",
    "print(\"y_train shape:\", y_train.shape)\n",
    "print(\"X_test shape:\", X_test.shape)\n",
    "print(\"y_test shape:\", y_test.shape)"
   ]
  },
  {
   "cell_type": "markdown",
   "id": "5e1921a7-bf43-4418-8d92-0f3c2e65892b",
   "metadata": {},
   "source": [
    "## Resample"
   ]
  },
  {
   "cell_type": "code",
   "execution_count": 7,
   "id": "b761c3a1-6456-452c-b455-617e7bd1dfa4",
   "metadata": {},
   "outputs": [
    {
     "name": "stdout",
     "output_type": "stream",
     "text": [
      "X_train_over shape: (66088, 64)\n"
     ]
    },
    {
     "data": {
      "text/html": [
       "<div>\n",
       "<style scoped>\n",
       "    .dataframe tbody tr th:only-of-type {\n",
       "        vertical-align: middle;\n",
       "    }\n",
       "\n",
       "    .dataframe tbody tr th {\n",
       "        vertical-align: top;\n",
       "    }\n",
       "\n",
       "    .dataframe thead th {\n",
       "        text-align: right;\n",
       "    }\n",
       "</style>\n",
       "<table border=\"1\" class=\"dataframe\">\n",
       "  <thead>\n",
       "    <tr style=\"text-align: right;\">\n",
       "      <th></th>\n",
       "      <th>feat_1</th>\n",
       "      <th>feat_2</th>\n",
       "      <th>feat_3</th>\n",
       "      <th>feat_4</th>\n",
       "      <th>feat_5</th>\n",
       "      <th>feat_6</th>\n",
       "      <th>feat_7</th>\n",
       "      <th>feat_8</th>\n",
       "      <th>feat_9</th>\n",
       "      <th>feat_10</th>\n",
       "      <th>...</th>\n",
       "      <th>feat_55</th>\n",
       "      <th>feat_56</th>\n",
       "      <th>feat_57</th>\n",
       "      <th>feat_58</th>\n",
       "      <th>feat_59</th>\n",
       "      <th>feat_60</th>\n",
       "      <th>feat_61</th>\n",
       "      <th>feat_62</th>\n",
       "      <th>feat_63</th>\n",
       "      <th>feat_64</th>\n",
       "    </tr>\n",
       "  </thead>\n",
       "  <tbody>\n",
       "    <tr>\n",
       "      <th>0</th>\n",
       "      <td>0.09917</td>\n",
       "      <td>0.53416</td>\n",
       "      <td>-0.115670</td>\n",
       "      <td>0.59737</td>\n",
       "      <td>-171.500</td>\n",
       "      <td>0.12832</td>\n",
       "      <td>0.099759</td>\n",
       "      <td>0.40877</td>\n",
       "      <td>1.17820</td>\n",
       "      <td>0.21835</td>\n",
       "      <td>...</td>\n",
       "      <td>-4763.40000</td>\n",
       "      <td>0.151260</td>\n",
       "      <td>0.454180</td>\n",
       "      <td>0.84874</td>\n",
       "      <td>1.130600</td>\n",
       "      <td>5.5544</td>\n",
       "      <td>17.6530</td>\n",
       "      <td>150.240</td>\n",
       "      <td>2.42940</td>\n",
       "      <td>0.84254</td>\n",
       "    </tr>\n",
       "    <tr>\n",
       "      <th>1</th>\n",
       "      <td>-0.21799</td>\n",
       "      <td>1.19870</td>\n",
       "      <td>-0.117230</td>\n",
       "      <td>0.88859</td>\n",
       "      <td>-398.940</td>\n",
       "      <td>-0.10353</td>\n",
       "      <td>-0.217990</td>\n",
       "      <td>-0.16573</td>\n",
       "      <td>0.65402</td>\n",
       "      <td>-0.19866</td>\n",
       "      <td>...</td>\n",
       "      <td>-1730.10000</td>\n",
       "      <td>-0.055770</td>\n",
       "      <td>1.097300</td>\n",
       "      <td>1.32920</td>\n",
       "      <td>-0.737150</td>\n",
       "      <td>1.0386</td>\n",
       "      <td>2.1889</td>\n",
       "      <td>587.220</td>\n",
       "      <td>0.62157</td>\n",
       "      <td>10.06000</td>\n",
       "    </tr>\n",
       "    <tr>\n",
       "      <th>2</th>\n",
       "      <td>-0.01236</td>\n",
       "      <td>0.44718</td>\n",
       "      <td>0.157150</td>\n",
       "      <td>1.36550</td>\n",
       "      <td>-15.911</td>\n",
       "      <td>0.14693</td>\n",
       "      <td>-0.012360</td>\n",
       "      <td>1.12000</td>\n",
       "      <td>0.99133</td>\n",
       "      <td>0.50085</td>\n",
       "      <td>...</td>\n",
       "      <td>3013.90000</td>\n",
       "      <td>-0.008746</td>\n",
       "      <td>-0.024677</td>\n",
       "      <td>1.00870</td>\n",
       "      <td>0.034357</td>\n",
       "      <td>8.8255</td>\n",
       "      <td>6.5769</td>\n",
       "      <td>71.255</td>\n",
       "      <td>5.12250</td>\n",
       "      <td>5.33470</td>\n",
       "    </tr>\n",
       "    <tr>\n",
       "      <th>3</th>\n",
       "      <td>0.14592</td>\n",
       "      <td>0.36115</td>\n",
       "      <td>-0.004687</td>\n",
       "      <td>0.98252</td>\n",
       "      <td>-106.530</td>\n",
       "      <td>0.00000</td>\n",
       "      <td>0.153880</td>\n",
       "      <td>1.76890</td>\n",
       "      <td>0.60365</td>\n",
       "      <td>0.63885</td>\n",
       "      <td>...</td>\n",
       "      <td>0.98252</td>\n",
       "      <td>0.270750</td>\n",
       "      <td>0.228410</td>\n",
       "      <td>0.61258</td>\n",
       "      <td>0.145590</td>\n",
       "      <td>7.0031</td>\n",
       "      <td>4.1734</td>\n",
       "      <td>162.130</td>\n",
       "      <td>2.25120</td>\n",
       "      <td>0.81957</td>\n",
       "    </tr>\n",
       "    <tr>\n",
       "      <th>4</th>\n",
       "      <td>0.33202</td>\n",
       "      <td>0.72093</td>\n",
       "      <td>0.078647</td>\n",
       "      <td>1.11050</td>\n",
       "      <td>20.973</td>\n",
       "      <td>0.48570</td>\n",
       "      <td>0.411520</td>\n",
       "      <td>0.38709</td>\n",
       "      <td>1.36400</td>\n",
       "      <td>0.27907</td>\n",
       "      <td>...</td>\n",
       "      <td>1903.30000</td>\n",
       "      <td>0.266870</td>\n",
       "      <td>1.189700</td>\n",
       "      <td>0.73313</td>\n",
       "      <td>0.032695</td>\n",
       "      <td>167.0300</td>\n",
       "      <td>2.0608</td>\n",
       "      <td>163.730</td>\n",
       "      <td>2.22930</td>\n",
       "      <td>7.57270</td>\n",
       "    </tr>\n",
       "  </tbody>\n",
       "</table>\n",
       "<p>5 rows × 64 columns</p>\n",
       "</div>"
      ],
      "text/plain": [
       "    feat_1   feat_2    feat_3   feat_4   feat_5   feat_6    feat_7   feat_8  \\\n",
       "0  0.09917  0.53416 -0.115670  0.59737 -171.500  0.12832  0.099759  0.40877   \n",
       "1 -0.21799  1.19870 -0.117230  0.88859 -398.940 -0.10353 -0.217990 -0.16573   \n",
       "2 -0.01236  0.44718  0.157150  1.36550  -15.911  0.14693 -0.012360  1.12000   \n",
       "3  0.14592  0.36115 -0.004687  0.98252 -106.530  0.00000  0.153880  1.76890   \n",
       "4  0.33202  0.72093  0.078647  1.11050   20.973  0.48570  0.411520  0.38709   \n",
       "\n",
       "    feat_9  feat_10  ...     feat_55   feat_56   feat_57  feat_58   feat_59  \\\n",
       "0  1.17820  0.21835  ... -4763.40000  0.151260  0.454180  0.84874  1.130600   \n",
       "1  0.65402 -0.19866  ... -1730.10000 -0.055770  1.097300  1.32920 -0.737150   \n",
       "2  0.99133  0.50085  ...  3013.90000 -0.008746 -0.024677  1.00870  0.034357   \n",
       "3  0.60365  0.63885  ...     0.98252  0.270750  0.228410  0.61258  0.145590   \n",
       "4  1.36400  0.27907  ...  1903.30000  0.266870  1.189700  0.73313  0.032695   \n",
       "\n",
       "    feat_60  feat_61  feat_62  feat_63   feat_64  \n",
       "0    5.5544  17.6530  150.240  2.42940   0.84254  \n",
       "1    1.0386   2.1889  587.220  0.62157  10.06000  \n",
       "2    8.8255   6.5769   71.255  5.12250   5.33470  \n",
       "3    7.0031   4.1734  162.130  2.25120   0.81957  \n",
       "4  167.0300   2.0608  163.730  2.22930   7.57270  \n",
       "\n",
       "[5 rows x 64 columns]"
      ]
     },
     "execution_count": 7,
     "metadata": {},
     "output_type": "execute_result"
    }
   ],
   "source": [
    "X_train_over, y_train_over = RandomOverSampler(random_state=42).fit_resample(X_train , y_train)\n",
    "print(\"X_train_over shape:\", X_train_over.shape)\n",
    "X_train_over.head()"
   ]
  },
  {
   "cell_type": "markdown",
   "id": "90b44879-5fbd-4ddb-b407-a869f4aaccbe",
   "metadata": {},
   "source": [
    "# Build Model"
   ]
  },
  {
   "cell_type": "markdown",
   "id": "a92bfdbc-6dae-4735-a4a4-3804e911422c",
   "metadata": {},
   "source": [
    "Now that we have our data set up the right way, we can build the model."
   ]
  },
  {
   "cell_type": "markdown",
   "id": "ce4e086a-5d7b-4d12-a98b-1505e7cbc967",
   "metadata": {},
   "source": [
    "## Baseline"
   ]
  },
  {
   "cell_type": "code",
   "execution_count": 8,
   "id": "0a5f55ab-201b-4aad-820b-3c6ff215ab1e",
   "metadata": {},
   "outputs": [
    {
     "name": "stdout",
     "output_type": "stream",
     "text": [
      "Baseline Accuracy: 0.9516\n"
     ]
    }
   ],
   "source": [
    "acc_baseline = y_train.value_counts(normalize=True).max()\n",
    "print(\"Baseline Accuracy:\", round(acc_baseline, 4))"
   ]
  },
  {
   "cell_type": "markdown",
   "id": "bbb92031-b504-4dee-a782-7f52564c250f",
   "metadata": {},
   "source": [
    "## Iterate"
   ]
  },
  {
   "cell_type": "code",
   "execution_count": 11,
   "id": "88a71dbc-7373-46e8-aaf3-171810a6e6a3",
   "metadata": {},
   "outputs": [
    {
     "data": {
      "text/html": [
       "<style>#sk-container-id-1 {color: black;background-color: white;}#sk-container-id-1 pre{padding: 0;}#sk-container-id-1 div.sk-toggleable {background-color: white;}#sk-container-id-1 label.sk-toggleable__label {cursor: pointer;display: block;width: 100%;margin-bottom: 0;padding: 0.3em;box-sizing: border-box;text-align: center;}#sk-container-id-1 label.sk-toggleable__label-arrow:before {content: \"▸\";float: left;margin-right: 0.25em;color: #696969;}#sk-container-id-1 label.sk-toggleable__label-arrow:hover:before {color: black;}#sk-container-id-1 div.sk-estimator:hover label.sk-toggleable__label-arrow:before {color: black;}#sk-container-id-1 div.sk-toggleable__content {max-height: 0;max-width: 0;overflow: hidden;text-align: left;background-color: #f0f8ff;}#sk-container-id-1 div.sk-toggleable__content pre {margin: 0.2em;color: black;border-radius: 0.25em;background-color: #f0f8ff;}#sk-container-id-1 input.sk-toggleable__control:checked~div.sk-toggleable__content {max-height: 200px;max-width: 100%;overflow: auto;}#sk-container-id-1 input.sk-toggleable__control:checked~label.sk-toggleable__label-arrow:before {content: \"▾\";}#sk-container-id-1 div.sk-estimator input.sk-toggleable__control:checked~label.sk-toggleable__label {background-color: #d4ebff;}#sk-container-id-1 div.sk-label input.sk-toggleable__control:checked~label.sk-toggleable__label {background-color: #d4ebff;}#sk-container-id-1 input.sk-hidden--visually {border: 0;clip: rect(1px 1px 1px 1px);clip: rect(1px, 1px, 1px, 1px);height: 1px;margin: -1px;overflow: hidden;padding: 0;position: absolute;width: 1px;}#sk-container-id-1 div.sk-estimator {font-family: monospace;background-color: #f0f8ff;border: 1px dotted black;border-radius: 0.25em;box-sizing: border-box;margin-bottom: 0.5em;}#sk-container-id-1 div.sk-estimator:hover {background-color: #d4ebff;}#sk-container-id-1 div.sk-parallel-item::after {content: \"\";width: 100%;border-bottom: 1px solid gray;flex-grow: 1;}#sk-container-id-1 div.sk-label:hover label.sk-toggleable__label {background-color: #d4ebff;}#sk-container-id-1 div.sk-serial::before {content: \"\";position: absolute;border-left: 1px solid gray;box-sizing: border-box;top: 0;bottom: 0;left: 50%;z-index: 0;}#sk-container-id-1 div.sk-serial {display: flex;flex-direction: column;align-items: center;background-color: white;padding-right: 0.2em;padding-left: 0.2em;position: relative;}#sk-container-id-1 div.sk-item {position: relative;z-index: 1;}#sk-container-id-1 div.sk-parallel {display: flex;align-items: stretch;justify-content: center;background-color: white;position: relative;}#sk-container-id-1 div.sk-item::before, #sk-container-id-1 div.sk-parallel-item::before {content: \"\";position: absolute;border-left: 1px solid gray;box-sizing: border-box;top: 0;bottom: 0;left: 50%;z-index: -1;}#sk-container-id-1 div.sk-parallel-item {display: flex;flex-direction: column;z-index: 1;position: relative;background-color: white;}#sk-container-id-1 div.sk-parallel-item:first-child::after {align-self: flex-end;width: 50%;}#sk-container-id-1 div.sk-parallel-item:last-child::after {align-self: flex-start;width: 50%;}#sk-container-id-1 div.sk-parallel-item:only-child::after {width: 0;}#sk-container-id-1 div.sk-dashed-wrapped {border: 1px dashed gray;margin: 0 0.4em 0.5em 0.4em;box-sizing: border-box;padding-bottom: 0.4em;background-color: white;}#sk-container-id-1 div.sk-label label {font-family: monospace;font-weight: bold;display: inline-block;line-height: 1.2em;}#sk-container-id-1 div.sk-label-container {text-align: center;}#sk-container-id-1 div.sk-container {/* jupyter's `normalize.less` sets `[hidden] { display: none; }` but bootstrap.min.css set `[hidden] { display: none !important; }` so we also need the `!important` here to be able to override the default hidden behavior on the sphinx rendered scikit-learn.org. See: https://github.com/scikit-learn/scikit-learn/issues/21755 */display: inline-block !important;position: relative;}#sk-container-id-1 div.sk-text-repr-fallback {display: none;}</style><div id=\"sk-container-id-1\" class=\"sk-top-container\"><div class=\"sk-text-repr-fallback\"><pre>Pipeline(steps=[(&#x27;simpleimputer&#x27;, SimpleImputer()),\n",
       "                (&#x27;randomforestclassifier&#x27;,\n",
       "                 RandomForestClassifier(random_state=42))])</pre><b>In a Jupyter environment, please rerun this cell to show the HTML representation or trust the notebook. <br />On GitHub, the HTML representation is unable to render, please try loading this page with nbviewer.org.</b></div><div class=\"sk-container\" hidden><div class=\"sk-item sk-dashed-wrapped\"><div class=\"sk-label-container\"><div class=\"sk-label sk-toggleable\"><input class=\"sk-toggleable__control sk-hidden--visually\" id=\"sk-estimator-id-1\" type=\"checkbox\" ><label for=\"sk-estimator-id-1\" class=\"sk-toggleable__label sk-toggleable__label-arrow\">Pipeline</label><div class=\"sk-toggleable__content\"><pre>Pipeline(steps=[(&#x27;simpleimputer&#x27;, SimpleImputer()),\n",
       "                (&#x27;randomforestclassifier&#x27;,\n",
       "                 RandomForestClassifier(random_state=42))])</pre></div></div></div><div class=\"sk-serial\"><div class=\"sk-item\"><div class=\"sk-estimator sk-toggleable\"><input class=\"sk-toggleable__control sk-hidden--visually\" id=\"sk-estimator-id-2\" type=\"checkbox\" ><label for=\"sk-estimator-id-2\" class=\"sk-toggleable__label sk-toggleable__label-arrow\">SimpleImputer</label><div class=\"sk-toggleable__content\"><pre>SimpleImputer()</pre></div></div></div><div class=\"sk-item\"><div class=\"sk-estimator sk-toggleable\"><input class=\"sk-toggleable__control sk-hidden--visually\" id=\"sk-estimator-id-3\" type=\"checkbox\" ><label for=\"sk-estimator-id-3\" class=\"sk-toggleable__label sk-toggleable__label-arrow\">RandomForestClassifier</label><div class=\"sk-toggleable__content\"><pre>RandomForestClassifier(random_state=42)</pre></div></div></div></div></div></div></div>"
      ],
      "text/plain": [
       "Pipeline(steps=[('simpleimputer', SimpleImputer()),\n",
       "                ('randomforestclassifier',\n",
       "                 RandomForestClassifier(random_state=42))])"
      ]
     },
     "execution_count": 11,
     "metadata": {},
     "output_type": "execute_result"
    }
   ],
   "source": [
    "clf = make_pipeline(\n",
    "    SimpleImputer(),\n",
    "    RandomForestClassifier(random_state=42)\n",
    ")\n",
    "clf"
   ]
  },
  {
   "cell_type": "code",
   "execution_count": 12,
   "id": "9ed54fe0-14cc-471b-b1b3-ef92c78c42f1",
   "metadata": {},
   "outputs": [
    {
     "data": {
      "text/plain": [
       "{'simpleimputer__strategy': ['mean', 'median'],\n",
       " 'randomforestclassifier__n_estimators': range(25, 100, 25),\n",
       " 'randomforestclassifier__max_depth': range(10, 50, 10)}"
      ]
     },
     "execution_count": 12,
     "metadata": {},
     "output_type": "execute_result"
    }
   ],
   "source": [
    "params = {\n",
    "    \"simpleimputer__strategy\": [\"mean\" , \"median\"],\n",
    "    \"randomforestclassifier__n_estimators\": range(25,100,25),\n",
    "    \"randomforestclassifier__max_depth\": range(10,50,10)\n",
    "}\n",
    "params"
   ]
  },
  {
   "cell_type": "code",
   "execution_count": 13,
   "id": "ee95ff71-c808-404d-9340-67697e3cf359",
   "metadata": {},
   "outputs": [
    {
     "data": {
      "text/html": [
       "<style>#sk-container-id-2 {color: black;background-color: white;}#sk-container-id-2 pre{padding: 0;}#sk-container-id-2 div.sk-toggleable {background-color: white;}#sk-container-id-2 label.sk-toggleable__label {cursor: pointer;display: block;width: 100%;margin-bottom: 0;padding: 0.3em;box-sizing: border-box;text-align: center;}#sk-container-id-2 label.sk-toggleable__label-arrow:before {content: \"▸\";float: left;margin-right: 0.25em;color: #696969;}#sk-container-id-2 label.sk-toggleable__label-arrow:hover:before {color: black;}#sk-container-id-2 div.sk-estimator:hover label.sk-toggleable__label-arrow:before {color: black;}#sk-container-id-2 div.sk-toggleable__content {max-height: 0;max-width: 0;overflow: hidden;text-align: left;background-color: #f0f8ff;}#sk-container-id-2 div.sk-toggleable__content pre {margin: 0.2em;color: black;border-radius: 0.25em;background-color: #f0f8ff;}#sk-container-id-2 input.sk-toggleable__control:checked~div.sk-toggleable__content {max-height: 200px;max-width: 100%;overflow: auto;}#sk-container-id-2 input.sk-toggleable__control:checked~label.sk-toggleable__label-arrow:before {content: \"▾\";}#sk-container-id-2 div.sk-estimator input.sk-toggleable__control:checked~label.sk-toggleable__label {background-color: #d4ebff;}#sk-container-id-2 div.sk-label input.sk-toggleable__control:checked~label.sk-toggleable__label {background-color: #d4ebff;}#sk-container-id-2 input.sk-hidden--visually {border: 0;clip: rect(1px 1px 1px 1px);clip: rect(1px, 1px, 1px, 1px);height: 1px;margin: -1px;overflow: hidden;padding: 0;position: absolute;width: 1px;}#sk-container-id-2 div.sk-estimator {font-family: monospace;background-color: #f0f8ff;border: 1px dotted black;border-radius: 0.25em;box-sizing: border-box;margin-bottom: 0.5em;}#sk-container-id-2 div.sk-estimator:hover {background-color: #d4ebff;}#sk-container-id-2 div.sk-parallel-item::after {content: \"\";width: 100%;border-bottom: 1px solid gray;flex-grow: 1;}#sk-container-id-2 div.sk-label:hover label.sk-toggleable__label {background-color: #d4ebff;}#sk-container-id-2 div.sk-serial::before {content: \"\";position: absolute;border-left: 1px solid gray;box-sizing: border-box;top: 0;bottom: 0;left: 50%;z-index: 0;}#sk-container-id-2 div.sk-serial {display: flex;flex-direction: column;align-items: center;background-color: white;padding-right: 0.2em;padding-left: 0.2em;position: relative;}#sk-container-id-2 div.sk-item {position: relative;z-index: 1;}#sk-container-id-2 div.sk-parallel {display: flex;align-items: stretch;justify-content: center;background-color: white;position: relative;}#sk-container-id-2 div.sk-item::before, #sk-container-id-2 div.sk-parallel-item::before {content: \"\";position: absolute;border-left: 1px solid gray;box-sizing: border-box;top: 0;bottom: 0;left: 50%;z-index: -1;}#sk-container-id-2 div.sk-parallel-item {display: flex;flex-direction: column;z-index: 1;position: relative;background-color: white;}#sk-container-id-2 div.sk-parallel-item:first-child::after {align-self: flex-end;width: 50%;}#sk-container-id-2 div.sk-parallel-item:last-child::after {align-self: flex-start;width: 50%;}#sk-container-id-2 div.sk-parallel-item:only-child::after {width: 0;}#sk-container-id-2 div.sk-dashed-wrapped {border: 1px dashed gray;margin: 0 0.4em 0.5em 0.4em;box-sizing: border-box;padding-bottom: 0.4em;background-color: white;}#sk-container-id-2 div.sk-label label {font-family: monospace;font-weight: bold;display: inline-block;line-height: 1.2em;}#sk-container-id-2 div.sk-label-container {text-align: center;}#sk-container-id-2 div.sk-container {/* jupyter's `normalize.less` sets `[hidden] { display: none; }` but bootstrap.min.css set `[hidden] { display: none !important; }` so we also need the `!important` here to be able to override the default hidden behavior on the sphinx rendered scikit-learn.org. See: https://github.com/scikit-learn/scikit-learn/issues/21755 */display: inline-block !important;position: relative;}#sk-container-id-2 div.sk-text-repr-fallback {display: none;}</style><div id=\"sk-container-id-2\" class=\"sk-top-container\"><div class=\"sk-text-repr-fallback\"><pre>GridSearchCV(cv=5,\n",
       "             estimator=Pipeline(steps=[(&#x27;simpleimputer&#x27;, SimpleImputer()),\n",
       "                                       (&#x27;randomforestclassifier&#x27;,\n",
       "                                        RandomForestClassifier(random_state=42))]),\n",
       "             n_jobs=-1,\n",
       "             param_grid={&#x27;randomforestclassifier__max_depth&#x27;: range(10, 50, 10),\n",
       "                         &#x27;randomforestclassifier__n_estimators&#x27;: range(25, 100, 25),\n",
       "                         &#x27;simpleimputer__strategy&#x27;: [&#x27;mean&#x27;, &#x27;median&#x27;]},\n",
       "             verbose=1)</pre><b>In a Jupyter environment, please rerun this cell to show the HTML representation or trust the notebook. <br />On GitHub, the HTML representation is unable to render, please try loading this page with nbviewer.org.</b></div><div class=\"sk-container\" hidden><div class=\"sk-item sk-dashed-wrapped\"><div class=\"sk-label-container\"><div class=\"sk-label sk-toggleable\"><input class=\"sk-toggleable__control sk-hidden--visually\" id=\"sk-estimator-id-4\" type=\"checkbox\" ><label for=\"sk-estimator-id-4\" class=\"sk-toggleable__label sk-toggleable__label-arrow\">GridSearchCV</label><div class=\"sk-toggleable__content\"><pre>GridSearchCV(cv=5,\n",
       "             estimator=Pipeline(steps=[(&#x27;simpleimputer&#x27;, SimpleImputer()),\n",
       "                                       (&#x27;randomforestclassifier&#x27;,\n",
       "                                        RandomForestClassifier(random_state=42))]),\n",
       "             n_jobs=-1,\n",
       "             param_grid={&#x27;randomforestclassifier__max_depth&#x27;: range(10, 50, 10),\n",
       "                         &#x27;randomforestclassifier__n_estimators&#x27;: range(25, 100, 25),\n",
       "                         &#x27;simpleimputer__strategy&#x27;: [&#x27;mean&#x27;, &#x27;median&#x27;]},\n",
       "             verbose=1)</pre></div></div></div><div class=\"sk-parallel\"><div class=\"sk-parallel-item\"><div class=\"sk-item\"><div class=\"sk-label-container\"><div class=\"sk-label sk-toggleable\"><input class=\"sk-toggleable__control sk-hidden--visually\" id=\"sk-estimator-id-5\" type=\"checkbox\" ><label for=\"sk-estimator-id-5\" class=\"sk-toggleable__label sk-toggleable__label-arrow\">estimator: Pipeline</label><div class=\"sk-toggleable__content\"><pre>Pipeline(steps=[(&#x27;simpleimputer&#x27;, SimpleImputer()),\n",
       "                (&#x27;randomforestclassifier&#x27;,\n",
       "                 RandomForestClassifier(random_state=42))])</pre></div></div></div><div class=\"sk-serial\"><div class=\"sk-item\"><div class=\"sk-serial\"><div class=\"sk-item\"><div class=\"sk-estimator sk-toggleable\"><input class=\"sk-toggleable__control sk-hidden--visually\" id=\"sk-estimator-id-6\" type=\"checkbox\" ><label for=\"sk-estimator-id-6\" class=\"sk-toggleable__label sk-toggleable__label-arrow\">SimpleImputer</label><div class=\"sk-toggleable__content\"><pre>SimpleImputer()</pre></div></div></div><div class=\"sk-item\"><div class=\"sk-estimator sk-toggleable\"><input class=\"sk-toggleable__control sk-hidden--visually\" id=\"sk-estimator-id-7\" type=\"checkbox\" ><label for=\"sk-estimator-id-7\" class=\"sk-toggleable__label sk-toggleable__label-arrow\">RandomForestClassifier</label><div class=\"sk-toggleable__content\"><pre>RandomForestClassifier(random_state=42)</pre></div></div></div></div></div></div></div></div></div></div></div></div>"
      ],
      "text/plain": [
       "GridSearchCV(cv=5,\n",
       "             estimator=Pipeline(steps=[('simpleimputer', SimpleImputer()),\n",
       "                                       ('randomforestclassifier',\n",
       "                                        RandomForestClassifier(random_state=42))]),\n",
       "             n_jobs=-1,\n",
       "             param_grid={'randomforestclassifier__max_depth': range(10, 50, 10),\n",
       "                         'randomforestclassifier__n_estimators': range(25, 100, 25),\n",
       "                         'simpleimputer__strategy': ['mean', 'median']},\n",
       "             verbose=1)"
      ]
     },
     "execution_count": 13,
     "metadata": {},
     "output_type": "execute_result"
    }
   ],
   "source": [
    "model = GridSearchCV(\n",
    "    clf,\n",
    "    param_grid=params,\n",
    "    cv=5,\n",
    "    n_jobs=-1,\n",
    "    verbose=1\n",
    ")\n",
    "model"
   ]
  },
  {
   "cell_type": "code",
   "execution_count": 14,
   "id": "7e939ebd-cc46-4819-8240-4f03d836feed",
   "metadata": {},
   "outputs": [
    {
     "name": "stdout",
     "output_type": "stream",
     "text": [
      "Fitting 5 folds for each of 24 candidates, totalling 120 fits\n"
     ]
    },
    {
     "data": {
      "text/html": [
       "<style>#sk-container-id-3 {color: black;background-color: white;}#sk-container-id-3 pre{padding: 0;}#sk-container-id-3 div.sk-toggleable {background-color: white;}#sk-container-id-3 label.sk-toggleable__label {cursor: pointer;display: block;width: 100%;margin-bottom: 0;padding: 0.3em;box-sizing: border-box;text-align: center;}#sk-container-id-3 label.sk-toggleable__label-arrow:before {content: \"▸\";float: left;margin-right: 0.25em;color: #696969;}#sk-container-id-3 label.sk-toggleable__label-arrow:hover:before {color: black;}#sk-container-id-3 div.sk-estimator:hover label.sk-toggleable__label-arrow:before {color: black;}#sk-container-id-3 div.sk-toggleable__content {max-height: 0;max-width: 0;overflow: hidden;text-align: left;background-color: #f0f8ff;}#sk-container-id-3 div.sk-toggleable__content pre {margin: 0.2em;color: black;border-radius: 0.25em;background-color: #f0f8ff;}#sk-container-id-3 input.sk-toggleable__control:checked~div.sk-toggleable__content {max-height: 200px;max-width: 100%;overflow: auto;}#sk-container-id-3 input.sk-toggleable__control:checked~label.sk-toggleable__label-arrow:before {content: \"▾\";}#sk-container-id-3 div.sk-estimator input.sk-toggleable__control:checked~label.sk-toggleable__label {background-color: #d4ebff;}#sk-container-id-3 div.sk-label input.sk-toggleable__control:checked~label.sk-toggleable__label {background-color: #d4ebff;}#sk-container-id-3 input.sk-hidden--visually {border: 0;clip: rect(1px 1px 1px 1px);clip: rect(1px, 1px, 1px, 1px);height: 1px;margin: -1px;overflow: hidden;padding: 0;position: absolute;width: 1px;}#sk-container-id-3 div.sk-estimator {font-family: monospace;background-color: #f0f8ff;border: 1px dotted black;border-radius: 0.25em;box-sizing: border-box;margin-bottom: 0.5em;}#sk-container-id-3 div.sk-estimator:hover {background-color: #d4ebff;}#sk-container-id-3 div.sk-parallel-item::after {content: \"\";width: 100%;border-bottom: 1px solid gray;flex-grow: 1;}#sk-container-id-3 div.sk-label:hover label.sk-toggleable__label {background-color: #d4ebff;}#sk-container-id-3 div.sk-serial::before {content: \"\";position: absolute;border-left: 1px solid gray;box-sizing: border-box;top: 0;bottom: 0;left: 50%;z-index: 0;}#sk-container-id-3 div.sk-serial {display: flex;flex-direction: column;align-items: center;background-color: white;padding-right: 0.2em;padding-left: 0.2em;position: relative;}#sk-container-id-3 div.sk-item {position: relative;z-index: 1;}#sk-container-id-3 div.sk-parallel {display: flex;align-items: stretch;justify-content: center;background-color: white;position: relative;}#sk-container-id-3 div.sk-item::before, #sk-container-id-3 div.sk-parallel-item::before {content: \"\";position: absolute;border-left: 1px solid gray;box-sizing: border-box;top: 0;bottom: 0;left: 50%;z-index: -1;}#sk-container-id-3 div.sk-parallel-item {display: flex;flex-direction: column;z-index: 1;position: relative;background-color: white;}#sk-container-id-3 div.sk-parallel-item:first-child::after {align-self: flex-end;width: 50%;}#sk-container-id-3 div.sk-parallel-item:last-child::after {align-self: flex-start;width: 50%;}#sk-container-id-3 div.sk-parallel-item:only-child::after {width: 0;}#sk-container-id-3 div.sk-dashed-wrapped {border: 1px dashed gray;margin: 0 0.4em 0.5em 0.4em;box-sizing: border-box;padding-bottom: 0.4em;background-color: white;}#sk-container-id-3 div.sk-label label {font-family: monospace;font-weight: bold;display: inline-block;line-height: 1.2em;}#sk-container-id-3 div.sk-label-container {text-align: center;}#sk-container-id-3 div.sk-container {/* jupyter's `normalize.less` sets `[hidden] { display: none; }` but bootstrap.min.css set `[hidden] { display: none !important; }` so we also need the `!important` here to be able to override the default hidden behavior on the sphinx rendered scikit-learn.org. See: https://github.com/scikit-learn/scikit-learn/issues/21755 */display: inline-block !important;position: relative;}#sk-container-id-3 div.sk-text-repr-fallback {display: none;}</style><div id=\"sk-container-id-3\" class=\"sk-top-container\"><div class=\"sk-text-repr-fallback\"><pre>GridSearchCV(cv=5,\n",
       "             estimator=Pipeline(steps=[(&#x27;simpleimputer&#x27;, SimpleImputer()),\n",
       "                                       (&#x27;randomforestclassifier&#x27;,\n",
       "                                        RandomForestClassifier(random_state=42))]),\n",
       "             n_jobs=-1,\n",
       "             param_grid={&#x27;randomforestclassifier__max_depth&#x27;: range(10, 50, 10),\n",
       "                         &#x27;randomforestclassifier__n_estimators&#x27;: range(25, 100, 25),\n",
       "                         &#x27;simpleimputer__strategy&#x27;: [&#x27;mean&#x27;, &#x27;median&#x27;]},\n",
       "             verbose=1)</pre><b>In a Jupyter environment, please rerun this cell to show the HTML representation or trust the notebook. <br />On GitHub, the HTML representation is unable to render, please try loading this page with nbviewer.org.</b></div><div class=\"sk-container\" hidden><div class=\"sk-item sk-dashed-wrapped\"><div class=\"sk-label-container\"><div class=\"sk-label sk-toggleable\"><input class=\"sk-toggleable__control sk-hidden--visually\" id=\"sk-estimator-id-8\" type=\"checkbox\" ><label for=\"sk-estimator-id-8\" class=\"sk-toggleable__label sk-toggleable__label-arrow\">GridSearchCV</label><div class=\"sk-toggleable__content\"><pre>GridSearchCV(cv=5,\n",
       "             estimator=Pipeline(steps=[(&#x27;simpleimputer&#x27;, SimpleImputer()),\n",
       "                                       (&#x27;randomforestclassifier&#x27;,\n",
       "                                        RandomForestClassifier(random_state=42))]),\n",
       "             n_jobs=-1,\n",
       "             param_grid={&#x27;randomforestclassifier__max_depth&#x27;: range(10, 50, 10),\n",
       "                         &#x27;randomforestclassifier__n_estimators&#x27;: range(25, 100, 25),\n",
       "                         &#x27;simpleimputer__strategy&#x27;: [&#x27;mean&#x27;, &#x27;median&#x27;]},\n",
       "             verbose=1)</pre></div></div></div><div class=\"sk-parallel\"><div class=\"sk-parallel-item\"><div class=\"sk-item\"><div class=\"sk-label-container\"><div class=\"sk-label sk-toggleable\"><input class=\"sk-toggleable__control sk-hidden--visually\" id=\"sk-estimator-id-9\" type=\"checkbox\" ><label for=\"sk-estimator-id-9\" class=\"sk-toggleable__label sk-toggleable__label-arrow\">estimator: Pipeline</label><div class=\"sk-toggleable__content\"><pre>Pipeline(steps=[(&#x27;simpleimputer&#x27;, SimpleImputer()),\n",
       "                (&#x27;randomforestclassifier&#x27;,\n",
       "                 RandomForestClassifier(random_state=42))])</pre></div></div></div><div class=\"sk-serial\"><div class=\"sk-item\"><div class=\"sk-serial\"><div class=\"sk-item\"><div class=\"sk-estimator sk-toggleable\"><input class=\"sk-toggleable__control sk-hidden--visually\" id=\"sk-estimator-id-10\" type=\"checkbox\" ><label for=\"sk-estimator-id-10\" class=\"sk-toggleable__label sk-toggleable__label-arrow\">SimpleImputer</label><div class=\"sk-toggleable__content\"><pre>SimpleImputer()</pre></div></div></div><div class=\"sk-item\"><div class=\"sk-estimator sk-toggleable\"><input class=\"sk-toggleable__control sk-hidden--visually\" id=\"sk-estimator-id-11\" type=\"checkbox\" ><label for=\"sk-estimator-id-11\" class=\"sk-toggleable__label sk-toggleable__label-arrow\">RandomForestClassifier</label><div class=\"sk-toggleable__content\"><pre>RandomForestClassifier(random_state=42)</pre></div></div></div></div></div></div></div></div></div></div></div></div>"
      ],
      "text/plain": [
       "GridSearchCV(cv=5,\n",
       "             estimator=Pipeline(steps=[('simpleimputer', SimpleImputer()),\n",
       "                                       ('randomforestclassifier',\n",
       "                                        RandomForestClassifier(random_state=42))]),\n",
       "             n_jobs=-1,\n",
       "             param_grid={'randomforestclassifier__max_depth': range(10, 50, 10),\n",
       "                         'randomforestclassifier__n_estimators': range(25, 100, 25),\n",
       "                         'simpleimputer__strategy': ['mean', 'median']},\n",
       "             verbose=1)"
      ]
     },
     "execution_count": 14,
     "metadata": {},
     "output_type": "execute_result"
    }
   ],
   "source": [
    "# Train model\n",
    "model.fit(X_train_over , y_train_over)"
   ]
  },
  {
   "cell_type": "markdown",
   "id": "850b20c1-8b4b-40ba-b210-9b749e7b32d4",
   "metadata": {},
   "source": [
    "that makes 24 forests. How many fits did we just do? 24 forests times 5 folds is 120. And remember that each forest is comprised of 25-75 trees, which works out to at least 3,000 trees.\n",
    "\n",
    "Okay, now let's take a look at the results."
   ]
  },
  {
   "cell_type": "code",
   "execution_count": 15,
   "id": "c3198233-d597-457f-9448-8fd98b5ddde5",
   "metadata": {},
   "outputs": [
    {
     "data": {
      "text/html": [
       "<div>\n",
       "<style scoped>\n",
       "    .dataframe tbody tr th:only-of-type {\n",
       "        vertical-align: middle;\n",
       "    }\n",
       "\n",
       "    .dataframe tbody tr th {\n",
       "        vertical-align: top;\n",
       "    }\n",
       "\n",
       "    .dataframe thead th {\n",
       "        text-align: right;\n",
       "    }\n",
       "</style>\n",
       "<table border=\"1\" class=\"dataframe\">\n",
       "  <thead>\n",
       "    <tr style=\"text-align: right;\">\n",
       "      <th></th>\n",
       "      <th>mean_fit_time</th>\n",
       "      <th>std_fit_time</th>\n",
       "      <th>mean_score_time</th>\n",
       "      <th>std_score_time</th>\n",
       "      <th>param_randomforestclassifier__max_depth</th>\n",
       "      <th>param_randomforestclassifier__n_estimators</th>\n",
       "      <th>param_simpleimputer__strategy</th>\n",
       "      <th>params</th>\n",
       "      <th>split0_test_score</th>\n",
       "      <th>split1_test_score</th>\n",
       "      <th>split2_test_score</th>\n",
       "      <th>split3_test_score</th>\n",
       "      <th>split4_test_score</th>\n",
       "      <th>mean_test_score</th>\n",
       "      <th>std_test_score</th>\n",
       "      <th>rank_test_score</th>\n",
       "    </tr>\n",
       "  </thead>\n",
       "  <tbody>\n",
       "    <tr>\n",
       "      <th>21</th>\n",
       "      <td>39.869526</td>\n",
       "      <td>2.770637</td>\n",
       "      <td>0.332459</td>\n",
       "      <td>0.140423</td>\n",
       "      <td>40</td>\n",
       "      <td>50</td>\n",
       "      <td>median</td>\n",
       "      <td>{'randomforestclassifier__max_depth': 40, 'ran...</td>\n",
       "      <td>0.996671</td>\n",
       "      <td>0.998109</td>\n",
       "      <td>0.998033</td>\n",
       "      <td>0.997276</td>\n",
       "      <td>0.997125</td>\n",
       "      <td>0.997443</td>\n",
       "      <td>0.000551</td>\n",
       "      <td>1</td>\n",
       "    </tr>\n",
       "    <tr>\n",
       "      <th>20</th>\n",
       "      <td>39.731801</td>\n",
       "      <td>1.377897</td>\n",
       "      <td>0.353975</td>\n",
       "      <td>0.077443</td>\n",
       "      <td>40</td>\n",
       "      <td>50</td>\n",
       "      <td>mean</td>\n",
       "      <td>{'randomforestclassifier__max_depth': 40, 'ran...</td>\n",
       "      <td>0.996823</td>\n",
       "      <td>0.998260</td>\n",
       "      <td>0.997806</td>\n",
       "      <td>0.997352</td>\n",
       "      <td>0.996974</td>\n",
       "      <td>0.997443</td>\n",
       "      <td>0.000532</td>\n",
       "      <td>2</td>\n",
       "    </tr>\n",
       "    <tr>\n",
       "      <th>22</th>\n",
       "      <td>50.562579</td>\n",
       "      <td>1.216443</td>\n",
       "      <td>0.402956</td>\n",
       "      <td>0.050350</td>\n",
       "      <td>40</td>\n",
       "      <td>75</td>\n",
       "      <td>mean</td>\n",
       "      <td>{'randomforestclassifier__max_depth': 40, 'ran...</td>\n",
       "      <td>0.996520</td>\n",
       "      <td>0.998336</td>\n",
       "      <td>0.997806</td>\n",
       "      <td>0.997503</td>\n",
       "      <td>0.996822</td>\n",
       "      <td>0.997397</td>\n",
       "      <td>0.000657</td>\n",
       "      <td>3</td>\n",
       "    </tr>\n",
       "    <tr>\n",
       "      <th>23</th>\n",
       "      <td>47.273745</td>\n",
       "      <td>5.746787</td>\n",
       "      <td>0.330185</td>\n",
       "      <td>0.063385</td>\n",
       "      <td>40</td>\n",
       "      <td>75</td>\n",
       "      <td>median</td>\n",
       "      <td>{'randomforestclassifier__max_depth': 40, 'ran...</td>\n",
       "      <td>0.996520</td>\n",
       "      <td>0.998260</td>\n",
       "      <td>0.997882</td>\n",
       "      <td>0.996974</td>\n",
       "      <td>0.997125</td>\n",
       "      <td>0.997352</td>\n",
       "      <td>0.000631</td>\n",
       "      <td>4</td>\n",
       "    </tr>\n",
       "    <tr>\n",
       "      <th>16</th>\n",
       "      <td>51.360633</td>\n",
       "      <td>1.294133</td>\n",
       "      <td>0.400177</td>\n",
       "      <td>0.012753</td>\n",
       "      <td>30</td>\n",
       "      <td>75</td>\n",
       "      <td>mean</td>\n",
       "      <td>{'randomforestclassifier__max_depth': 30, 'ran...</td>\n",
       "      <td>0.996066</td>\n",
       "      <td>0.997806</td>\n",
       "      <td>0.997957</td>\n",
       "      <td>0.997503</td>\n",
       "      <td>0.996822</td>\n",
       "      <td>0.997231</td>\n",
       "      <td>0.000701</td>\n",
       "      <td>5</td>\n",
       "    </tr>\n",
       "  </tbody>\n",
       "</table>\n",
       "</div>"
      ],
      "text/plain": [
       "    mean_fit_time  std_fit_time  mean_score_time  std_score_time  \\\n",
       "21      39.869526      2.770637         0.332459        0.140423   \n",
       "20      39.731801      1.377897         0.353975        0.077443   \n",
       "22      50.562579      1.216443         0.402956        0.050350   \n",
       "23      47.273745      5.746787         0.330185        0.063385   \n",
       "16      51.360633      1.294133         0.400177        0.012753   \n",
       "\n",
       "   param_randomforestclassifier__max_depth  \\\n",
       "21                                      40   \n",
       "20                                      40   \n",
       "22                                      40   \n",
       "23                                      40   \n",
       "16                                      30   \n",
       "\n",
       "   param_randomforestclassifier__n_estimators param_simpleimputer__strategy  \\\n",
       "21                                         50                        median   \n",
       "20                                         50                          mean   \n",
       "22                                         75                          mean   \n",
       "23                                         75                        median   \n",
       "16                                         75                          mean   \n",
       "\n",
       "                                               params  split0_test_score  \\\n",
       "21  {'randomforestclassifier__max_depth': 40, 'ran...           0.996671   \n",
       "20  {'randomforestclassifier__max_depth': 40, 'ran...           0.996823   \n",
       "22  {'randomforestclassifier__max_depth': 40, 'ran...           0.996520   \n",
       "23  {'randomforestclassifier__max_depth': 40, 'ran...           0.996520   \n",
       "16  {'randomforestclassifier__max_depth': 30, 'ran...           0.996066   \n",
       "\n",
       "    split1_test_score  split2_test_score  split3_test_score  \\\n",
       "21           0.998109           0.998033           0.997276   \n",
       "20           0.998260           0.997806           0.997352   \n",
       "22           0.998336           0.997806           0.997503   \n",
       "23           0.998260           0.997882           0.996974   \n",
       "16           0.997806           0.997957           0.997503   \n",
       "\n",
       "    split4_test_score  mean_test_score  std_test_score  rank_test_score  \n",
       "21           0.997125         0.997443        0.000551                1  \n",
       "20           0.996974         0.997443        0.000532                2  \n",
       "22           0.996822         0.997397        0.000657                3  \n",
       "23           0.997125         0.997352        0.000631                4  \n",
       "16           0.996822         0.997231        0.000701                5  "
      ]
     },
     "execution_count": 15,
     "metadata": {},
     "output_type": "execute_result"
    }
   ],
   "source": [
    "cv_results = pd.DataFrame(model.cv_results_).sort_values(by=\"rank_test_score\" ,ascending=True)\n",
    "cv_results.head()"
   ]
  },
  {
   "cell_type": "code",
   "execution_count": 16,
   "id": "9401ee93-81ab-4368-9ddf-455c9ea63c8c",
   "metadata": {},
   "outputs": [
    {
     "data": {
      "text/plain": [
       "{'randomforestclassifier__max_depth': 40,\n",
       " 'randomforestclassifier__n_estimators': 50,\n",
       " 'simpleimputer__strategy': 'median'}"
      ]
     },
     "execution_count": 16,
     "metadata": {},
     "output_type": "execute_result"
    }
   ],
   "source": [
    "# Extract best hyperparameters\n",
    "model.best_params_"
   ]
  },
  {
   "cell_type": "markdown",
   "id": "b156ae64-d377-485d-94b0-9ab304604090",
   "metadata": {},
   "source": [
    "## Evaluate"
   ]
  },
  {
   "cell_type": "code",
   "execution_count": 17,
   "id": "641c0b9f-26e1-43e8-95e8-29b539f7a16f",
   "metadata": {},
   "outputs": [
    {
     "name": "stdout",
     "output_type": "stream",
     "text": [
      "Training Accuracy: 1.0\n",
      "Test Accuracy: 0.9635\n"
     ]
    }
   ],
   "source": [
    "acc_train = model.score(X_train_over , y_train_over)\n",
    "acc_test = model.score(X_test , y_test)\n",
    "\n",
    "print(\"Training Accuracy:\", round(acc_train, 4))\n",
    "print(\"Test Accuracy:\", round(acc_test, 4))"
   ]
  },
  {
   "cell_type": "code",
   "execution_count": 18,
   "id": "3f8fdbf8-0bc0-45c7-ace4-d5beaee8082a",
   "metadata": {},
   "outputs": [
    {
     "data": {
      "text/plain": [
       "0    8270\n",
       "1     411\n",
       "Name: bankrupt, dtype: int64"
      ]
     },
     "execution_count": 18,
     "metadata": {},
     "output_type": "execute_result"
    }
   ],
   "source": [
    "y_test.value_counts()"
   ]
  },
  {
   "cell_type": "code",
   "execution_count": 19,
   "id": "d707ee89-125f-47c9-9834-5543e403ecc8",
   "metadata": {},
   "outputs": [
    {
     "data": {
      "image/png": "[encoded data removed]",
      "text/plain": [
       "<Figure size 640x480 with 2 Axes>"
      ]
     },
     "metadata": {},
     "output_type": "display_data"
    }
   ],
   "source": [
    "# Plot confusion matrix\n",
    "ConfusionMatrixDisplay.from_estimator(model , X_test , y_test);"
   ]
  },
  {
   "cell_type": "code",
   "execution_count": 20,
   "id": "9c3d80bc-725e-420f-9d16-ae6a5663326e",
   "metadata": {},
   "outputs": [
    {
     "data": {
      "image/png": "[encoded data removed]",
      "text/plain": [
       "<Figure size 640x480 with 1 Axes>"
      ]
     },
     "metadata": {},
     "output_type": "display_data"
    }
   ],
   "source": [
    "# Get feature names from training data\n",
    "features = X_train_over.columns\n",
    "# Extract importances from model\n",
    "importances = model.best_estimator_.named_steps[\"randomforestclassifier\"].feature_importances_\n",
    "# Create a series with feature names and importances\n",
    "feat_imp = pd.Series(importances , index=features).sort_values()\n",
    "# Plot 10 most important features\n",
    "feat_imp.tail(10).plot(kind=\"barh\")\n",
    "plt.xlabel(\"Gini Importance\")\n",
    "plt.ylabel(\"Feature\")\n",
    "plt.title(\"Feature Importance\");"
   ]
  },
  {
   "cell_type": "code",
   "execution_count": null,
   "id": "800abb67-4c95-4af1-a38c-35ec0d6e02eb",
   "metadata": {},
   "outputs": [],
   "source": []
  }
 ],
 "metadata": {
  "kernelspec": {
   "display_name": "Python 3 (ipykernel)",
   "language": "python",
   "name": "python3"
  },
  "language_info": {
   "codemirror_mode": {
    "name": "ipython",
    "version": 3
   },
   "file_extension": ".py",
   "mimetype": "text/x-python",
   "name": "python",
   "nbconvert_exporter": "python",
   "pygments_lexer": "ipython3",
   "version": "3.10.9"
  }
 },
 "nbformat": 4,
 "nbformat_minor": 5
}
